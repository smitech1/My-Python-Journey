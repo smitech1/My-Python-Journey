{
 "cells": [
  {
   "cell_type": "code",
   "execution_count": 1,
   "id": "df35472f-7136-4504-a17c-ac2e26c2c9cd",
   "metadata": {},
   "outputs": [
    {
     "name": "stdout",
     "output_type": "stream",
     "text": [
      "The score 90 exists in the list.\n",
      "The scores and scores_copy are the same object.\n",
      "Bitwise AND of the first two scores: 84\n",
      "The student's average score is 86 and their grade is B+.\n"
     ]
    }
   ],
   "source": [
    "# Student Grade Calculator\n",
    "\n",
    "# Create a list of test scores\n",
    "scores = [85, 92, 78, 90, 88]\n",
    "\n",
    "# Calculate the average score using floor division\n",
    "total_score = sum(scores)\n",
    "num_tests = len(scores)\n",
    "average_score = total_score // num_tests\n",
    "\n",
    "# Determine the grade using comparison operators\n",
    "if average_score >= 90:\n",
    "    grade = \"A\"\n",
    "elif average_score >= 80:\n",
    "    grade = \"B\"\n",
    "elif average_score >= 70:\n",
    "    grade = \"C\"\n",
    "elif average_score >= 60:\n",
    "    grade = \"D\"\n",
    "else:\n",
    "    grade = \"F\"\n",
    "\n",
    "# Update the grade using assignment operators\n",
    "if average_score % 10 >= 5:\n",
    "    grade += \"+\"\n",
    "\n",
    "# Check if a specific score exists in the list using membership operators\n",
    "check_score = 90\n",
    "if check_score in scores:\n",
    "    print(f\"The score {check_score} exists in the list.\")\n",
    "else:\n",
    "    print(f\"The score {check_score} does not exist in the list.\")\n",
    "\n",
    "# Compare objects using identity operators\n",
    "scores_copy = scores\n",
    "if scores is scores_copy:\n",
    "    print(\"The scores and scores_copy are the same object.\")\n",
    "else:\n",
    "    print(\"The scores and scores_copy are different objects.\")\n",
    "\n",
    "# Perform bitwise operations on the scores\n",
    "bitwise_result = scores[0] & scores[1]\n",
    "print(f\"Bitwise AND of the first two scores: {bitwise_result}\")\n",
    "\n",
    "# Display the student's grade\n",
    "print(f\"The student's average score is {average_score} and their grade is {grade}.\")"
   ]
  },
  {
   "cell_type": "code",
   "execution_count": null,
   "id": "61610c87-e8fb-4471-acb1-c58a8c2b036e",
   "metadata": {},
   "outputs": [],
   "source": []
  }
 ],
 "metadata": {
  "kernelspec": {
   "display_name": "Python 3 (ipykernel)",
   "language": "python",
   "name": "python3"
  },
  "language_info": {
   "codemirror_mode": {
    "name": "ipython",
    "version": 3
   },
   "file_extension": ".py",
   "mimetype": "text/x-python",
   "name": "python",
   "nbconvert_exporter": "python",
   "pygments_lexer": "ipython3",
   "version": "3.12.4"
  }
 },
 "nbformat": 4,
 "nbformat_minor": 5
}
