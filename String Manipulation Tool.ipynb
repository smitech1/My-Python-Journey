{
 "cells": [
  {
   "cell_type": "code",
   "execution_count": 5,
   "id": "4e09fdce-f6e6-4294-8c9e-2769c1dac381",
   "metadata": {},
   "outputs": [
    {
     "name": "stdin",
     "output_type": "stream",
     "text": [
      "Enter any sentence:  i am great\n"
     ]
    },
    {
     "name": "stdout",
     "output_type": "stream",
     "text": [
      "\n",
      "String Manipulation Menu: \n",
      "\n",
      "Option 1. Convert to uppercase\n",
      "Option 2. Convert to lowercase\n",
      "Option 3. Slice the string\n",
      "Option 4. Calculate string length\n",
      "Option 5. Loop through characters\n",
      "\n"
     ]
    },
    {
     "name": "stdin",
     "output_type": "stream",
     "text": [
      "Make a choice from 1 - 5:  3\n",
      "\n",
      "Enter start index to slice:  2\n",
      "Enter end index to slice:  7\n"
     ]
    },
    {
     "name": "stdout",
     "output_type": "stream",
     "text": [
      "Sliced: am gr\n"
     ]
    }
   ],
   "source": [
    "# String Manipulation Tool\n",
    "\n",
    "# prompt user to enter a string\n",
    "user_entry = input(\"Enter any sentence: \")\n",
    "\n",
    "# Display a menu of string manipulation options:\n",
    "print(\"\\nString Manipulation Menu: \\n\")\n",
    "print(\"Option 1. Convert to uppercase\")\n",
    "print(\"Option 2. Convert to lowercase\")\n",
    "print(\"Option 3. Slice the string\")\n",
    "print(\"Option 4. Calculate string length\")\n",
    "print(\"Option 5. Loop through characters\\n\")\n",
    "\n",
    "# Prompt user to make type a number as a choice\n",
    "user_choice = int(input(\"Make a choice from 1 - 5: \"))\n",
    "\n",
    "\n",
    "# string manipulation operation\n",
    "if user_choice == 1:\n",
    "    uppercase = user_entry.upper()\n",
    "    print(\"\\nUppercase: {}\".format(uppercase))\n",
    "elif user_choice == 2:\n",
    "    lowercase = user_entry.lower()\n",
    "    print(\"\\nLowercase: {}\".format(lowercase))\n",
    "elif user_choice == 3:\n",
    "    slicing_start   = int(input(\"\\nEnter start index to slice: \"))\n",
    "    slicing_end   = int(input(\"Enter end index to slice: \"))\n",
    "    sliced = user_entry[slicing_start:slicing_end]\n",
    "    print(\"Sliced: {}\".format(sliced))\n",
    "elif user_choice == 4:\n",
    "    length_count = len(user_entry)\n",
    "    print(\"The length of string is {} \".format(length_count))\n",
    "elif user_choice == 5:\n",
    "    for i in user_entry:\n",
    "        print(i)\n",
    "else:\n",
    "    print(\"Invalid input\")\n",
    "\n"
   ]
  },
  {
   "cell_type": "code",
   "execution_count": null,
   "id": "ffa4cf47-8d7b-4f9d-852c-7068ccdfb1db",
   "metadata": {},
   "outputs": [],
   "source": []
  }
 ],
 "metadata": {
  "kernelspec": {
   "display_name": "Python 3 (ipykernel)",
   "language": "python",
   "name": "python3"
  },
  "language_info": {
   "codemirror_mode": {
    "name": "ipython",
    "version": 3
   },
   "file_extension": ".py",
   "mimetype": "text/x-python",
   "name": "python",
   "nbconvert_exporter": "python",
   "pygments_lexer": "ipython3",
   "version": "3.12.4"
  }
 },
 "nbformat": 4,
 "nbformat_minor": 5
}
