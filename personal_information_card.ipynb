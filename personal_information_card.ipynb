{
 "cells": [
  {
   "cell_type": "code",
   "execution_count": 2,
   "id": "645ed789-599c-4474-87fd-9bd0a739521b",
   "metadata": {},
   "outputs": [
    {
     "name": "stdout",
     "output_type": "stream",
     "text": [
      "==================================\n",
      "       Personal Information\n",
      "==================================\n",
      "Name:  Godson Smith\n",
      "Age 40\n",
      "City Brighton\n",
      "Hobby Reading\n",
      "==================================\n"
     ]
    }
   ],
   "source": [
    "# Personal Information Card\n",
    "\n",
    "# Declaring variables to display personal information\n",
    "Name = \"Godson Smith\"\n",
    "Age = 40\n",
    "City = \"Brighton\"\n",
    "Hobby = \"Reading\"\n",
    "\n",
    "# Display the personal information card\n",
    "print(\"==================================\")\n",
    "print(\"       Personal Information\")\n",
    "print(\"==================================\")\n",
    "\n",
    "print(\"Name: \", Name)\n",
    "print(\"Age:\", Age)\n",
    "print(\"City:\", City)\n",
    "print(\"Hobby:\", Hobby)\n",
    "print(\"==================================\")\n"
   ]
  },
  {
   "cell_type": "code",
   "execution_count": null,
   "id": "8d963e9e-9c60-4eb5-9d9e-8d3a9d4406d8",
   "metadata": {},
   "outputs": [],
   "source": []
  }
 ],
 "metadata": {
  "kernelspec": {
   "display_name": "Python 3 (ipykernel)",
   "language": "python",
   "name": "python3"
  },
  "language_info": {
   "codemirror_mode": {
    "name": "ipython",
    "version": 3
   },
   "file_extension": ".py",
   "mimetype": "text/x-python",
   "name": "python",
   "nbconvert_exporter": "python",
   "pygments_lexer": "ipython3",
   "version": "3.12.4"
  }
 },
 "nbformat": 4,
 "nbformat_minor": 5
}
