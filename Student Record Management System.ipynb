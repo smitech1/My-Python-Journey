{
 "cells": [
  {
   "cell_type": "code",
   "execution_count": 15,
   "id": "83dfb278-7677-4a28-be7a-a957ef42cbd0",
   "metadata": {},
   "outputs": [
    {
     "name": "stdout",
     "output_type": "stream",
     "text": [
      "Number of students: 3\n",
      "Index of Ijeoma Uche: 1\n",
      "Student IDs: {1001, 1002, 1003, 1004, 1005}\n",
      "Courses: {'History', 'English', 'Maths', 'Science'}\n",
      "Updated Student IDs: {1001, 1002, 1003, 1004, 1005, 1006, 1007}\n",
      "Remaining Courses: {'History', 'Science'}\n",
      "Frozen Courses: frozenset({'History', 'English', 'Maths', 'Science'})\n",
      "Frozen Student Data: frozenset({('Godson Smith', 37, 'Grade 12'), ('Mike Johnson', 25, 'Grade 10'), ('Ijeoma Uche', 32, 'Grade 11')})\n"
     ]
    }
   ],
   "source": [
    "# create a record of students' information using a tuple\n",
    "student1 = (\"Godson Smith\", 37, \"Grade 12\")\n",
    "student2 = (\"Ijeoma Uche\", 32, \"Grade 11\")\n",
    "student3 = (\"Mike Johnson\", 25, \"Grade 10\")\n",
    "\n",
    "# Create a tuple of students' record\n",
    "students = (student1, student2, student3)\n",
    "\n",
    "# Use tuple methods\n",
    "print(f\"Number of students: {len(students)}\")\n",
    "print(f\"Index of Ijeoma Uche: {students.index(student2)}\")\n",
    "\n",
    "# Create sets for students IDs and courses\n",
    "student_ids = {1001, 1002, 1003, 1004, 1005}\n",
    "courses = {\"Maths\", \"Science\", \"English\", \"History\"}\n",
    "\n",
    "# Perform set operations\n",
    "print(f\"Student IDs: {student_ids}\")\n",
    "print(f\"Courses: {courses}\")\n",
    "\n",
    "new_students = {1006, 1007}\n",
    "student_ids.update(new_students)\n",
    "print(f\"Updated Student IDs: {student_ids}\")\n",
    "\n",
    "completed_courses = {\"Maths\", \"English\"}\n",
    "remaining_courses = courses - completed_courses\n",
    "print(f\"Remaining Courses: {remaining_courses}\")\n",
    "\n",
    "# Use frozen sets\n",
    "frozen_courses = frozenset([\"Maths\", \"Science\", \"English\", \"History\"])\n",
    "print(f\"Frozen Courses: {frozen_courses}\")\n",
    "\n",
    "# Attempt to modify a frozen set (will raise an error)\n",
    "# frozen_courses.add(\"Art\")  # Uncommenting this line will raise an AttributeError\n",
    "\n",
    "# Create a frozen set of student data\n",
    "frozen_student_data = frozenset(students)\n",
    "print(f\"Frozen Student Data: {frozen_student_data}\")\n"
   ]
  },
  {
   "cell_type": "code",
   "execution_count": 2,
   "id": "45868c79-6796-4de3-8c8b-3fe2c599f127",
   "metadata": {},
   "outputs": [
    {
     "data": {
      "text/plain": [
       "('Godson Smith', 37, 'A')"
      ]
     },
     "execution_count": 2,
     "metadata": {},
     "output_type": "execute_result"
    }
   ],
   "source": [
    "student_record"
   ]
  },
  {
   "cell_type": "code",
   "execution_count": null,
   "id": "086dab84-0821-4c63-a00e-f671904b9738",
   "metadata": {},
   "outputs": [],
   "source": []
  }
 ],
 "metadata": {
  "kernelspec": {
   "display_name": "Python 3 (ipykernel)",
   "language": "python",
   "name": "python3"
  },
  "language_info": {
   "codemirror_mode": {
    "name": "ipython",
    "version": 3
   },
   "file_extension": ".py",
   "mimetype": "text/x-python",
   "name": "python",
   "nbconvert_exporter": "python",
   "pygments_lexer": "ipython3",
   "version": "3.12.4"
  }
 },
 "nbformat": 4,
 "nbformat_minor": 5
}
