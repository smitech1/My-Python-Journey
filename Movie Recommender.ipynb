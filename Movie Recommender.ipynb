{
 "cells": [
  {
   "cell_type": "code",
   "execution_count": 14,
   "id": "e73e78a0-6483-49d5-9421-91bc69ba2352",
   "metadata": {},
   "outputs": [
    {
     "name": "stdout",
     "output_type": "stream",
     "text": [
      "                    =======Movie Recommender=======\n",
      "\n",
      "Objective: This python program recommends movies based on user preferences\n",
      "\n"
     ]
    },
    {
     "name": "stdin",
     "output_type": "stream",
     "text": [
      "Do you like action movies? (yes/no):  no\n",
      "Do you like comedy movies? (yes/no):  no\n",
      "Do you like drama movies? (yes/no):  yes\n"
     ]
    },
    {
     "name": "stdout",
     "output_type": "stream",
     "text": [
      "Recommended movies: 'The Shawshank Redemption', 'Forrest Gump', 'The Green Mile'\n"
     ]
    }
   ],
   "source": [
    "print(\"                    =======Movie Recommender=======\")\n",
    "\n",
    "print(\"\\nObjective: This python program recommends movies based on user preferences\\n\")\n",
    "\n",
    "# prompt user for movie preferences\n",
    "action = input(\"Do you like action movies? (yes/no): \").lower() == \"yes\"\n",
    "comedy = input(\"Do you like comedy movies? (yes/no): \").lower() == \"yes\"\n",
    "drama = input(\"Do you like drama movies? (yes/no): \").lower() == \"yes\"\n",
    "\n",
    "# Combine booleans using logical operators\n",
    "if action and comedy and not drama:\n",
    "    genre = \"Action-Comedy\"\n",
    "elif action and drama and not comedy:\n",
    "    genre = \"Action-Drama\"\n",
    "elif comedy and drama and not action:\n",
    "    genre = \"Comedy-Drama\"\n",
    "elif action and not comedy and not drama:\n",
    "    genre = \"Action\"\n",
    "elif comedy and not action and not drama:\n",
    "    genre = \"Comedy\"\n",
    "elif drama and not action and not comedy:\n",
    "    genre = \"Drama\"\n",
    "elif comedy and drama and action:\n",
    "    genre = \"Action-Drama-Comedy\"\n",
    "else:\n",
    "    genre = \"Unknown\"\n",
    "    \n",
    "# Recommend movies based on the genre using conditional statements\n",
    "if genre == \"Action-Comedy\":\n",
    "    print(\"Recommended movies: 'Rush Hour', 'Bad Boys', 'The Nice Guys'\")\n",
    "elif genre == \"Action-Drama\":\n",
    "    print(\"Recommended movies: 'The Dark Knight', 'Inception', 'John Wick'\")\n",
    "elif genre == \"Comedy-Drama\":\n",
    "    print(\"Recommended movies: 'The Big Sick', 'Little Miss Sunshine', 'The Intouchables'\")\n",
    "elif genre == \"Action\":\n",
    "    print(\"Recommended movies: 'Die Hard', 'The Matrix', 'Mission: Impossible'\")\n",
    "elif genre == \"Comedy\":\n",
    "    print(\"Recommended movies: 'The Hangover', 'Superbad', 'Bridesmaids'\")\n",
    "elif genre == \"Drama\":\n",
    "    print(\"Recommended movies: 'The Shawshank Redemption', 'Forrest Gump', 'The Green Mile'\")\n",
    "elif genre == \"Action-Drama-Comedy\":\n",
    "    print(\"Recommended movies: 'The Shawshank Redemption', 'Forrest Gump', 'The Green Mile'\")\n",
    "    print(\"Recommended movies: 'The Hangover', 'Superbad', 'Bridesmaids'\")\n",
    "    print(\"Recommended movies: 'The Dark Knight', 'Inception', 'John Wick'\")\n",
    "    print(\"Recommended movies: 'The Big Sick', 'Little Miss Sunshine', 'The Intouchables'\")\n",
    "else:\n",
    "    print(\"Sorry, we couldn't determine your movie preferences.\")\n",
    "    "
   ]
  },
  {
   "cell_type": "code",
   "execution_count": null,
   "id": "46ecd395-ca6f-491d-99f4-97df01c522b5",
   "metadata": {},
   "outputs": [],
   "source": []
  }
 ],
 "metadata": {
  "kernelspec": {
   "display_name": "Python 3 (ipykernel)",
   "language": "python",
   "name": "python3"
  },
  "language_info": {
   "codemirror_mode": {
    "name": "ipython",
    "version": 3
   },
   "file_extension": ".py",
   "mimetype": "text/x-python",
   "name": "python",
   "nbconvert_exporter": "python",
   "pygments_lexer": "ipython3",
   "version": "3.12.4"
  }
 },
 "nbformat": 4,
 "nbformat_minor": 5
}
