{
 "cells": [
  {
   "cell_type": "code",
   "execution_count": 15,
   "id": "f0a5a77b-19fb-4fe8-8326-fa2652e8f51b",
   "metadata": {},
   "outputs": [
    {
     "name": "stdin",
     "output_type": "stream",
     "text": [
      "First name:  Godson \n",
      "Last name:  Smith\n",
      "Age:  37\n",
      "City:  Brighton\n",
      "Occupation:  engineer\n"
     ]
    },
    {
     "name": "stdout",
     "output_type": "stream",
     "text": [
      "=======User Profile=======\n",
      "Godson  smith\n",
      "\n",
      "Godson  Smith, an engineer, lives in Brighton annd is 37 yeanrs old.\n",
      "\n",
      " Godson  Smith enjoys 'coding'.\n",
      "=======User Profile=======\n"
     ]
    }
   ],
   "source": [
    "# prompt user to enter the following information\n",
    "\n",
    "first_name = input(\"First name: \")\n",
    "last_name = input(\"Last name: \")\n",
    "age = int(input(\"Age: \"))\n",
    "city = input(\"City: \")\n",
    "occupation = input(\"Occupation: \")\n",
    "\n",
    "# concatenating first name and last name\n",
    "full_name = first_name + \" \" + last_name\n",
    "\n",
    "\n",
    "# Creating profile description using string formatting\n",
    "profile_des = f\"\\n{full_name}, a {occupation}, lives in {city} and is {age} years old.\"\n",
    "\n",
    "# using escape characters in the profile description\n",
    "profile_info = f\"\\n {full_name} enjoys \\'coding\\'.\"\n",
    "\n",
    "# Use string methods to modify the full name and profile description\n",
    "name_adjust = full_name.capitalize()\n",
    "profile_adjust = profile_des.replace(\"a\", \"an\") if occupation.startswith((\"a\", \"e\", \"i\", \"o\", \"u\")) else profile_des\n",
    "\n",
    "# Display the user profile\n",
    "print(\"=======User Profile=======\")\n",
    "print(name_adjust)\n",
    "print(profile_adjust)\n",
    "print(profile_info)\n",
    "print(\"=======User Profile=======\")"
   ]
  },
  {
   "cell_type": "code",
   "execution_count": null,
   "id": "9f56f823-e868-4df8-9f31-1eb3b25be582",
   "metadata": {},
   "outputs": [],
   "source": []
  }
 ],
 "metadata": {
  "kernelspec": {
   "display_name": "Python 3 (ipykernel)",
   "language": "python",
   "name": "python3"
  },
  "language_info": {
   "codemirror_mode": {
    "name": "ipython",
    "version": 3
   },
   "file_extension": ".py",
   "mimetype": "text/x-python",
   "name": "python",
   "nbconvert_exporter": "python",
   "pygments_lexer": "ipython3",
   "version": "3.12.4"
  }
 },
 "nbformat": 4,
 "nbformat_minor": 5
}
